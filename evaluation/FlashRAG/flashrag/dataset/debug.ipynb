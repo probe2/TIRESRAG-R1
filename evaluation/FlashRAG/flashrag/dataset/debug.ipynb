{
 "cells": [
  {
   "cell_type": "code",
   "execution_count": null,
   "metadata": {},
   "outputs": [],
   "source": [
    "from flashrag.dataset.dataset import Dataset\n",
    "def get_dataset(config):\n",
    "    \"\"\"Load dataset from config.\"\"\"\n",
    "    SUPPORT_FILES = [\"jsonl\", \"json\", \"parquet\"]\n",
    "\n",
    "    dataset_path = config[\"dataset_path\"]\n",
    "    all_split = config[\"split\"]\n",
    "\n",
    "    print(\"all_split\",all_split,dataset_path)\n",
    "    split_dict = {split: None for split in all_split}\n",
    "\n",
    "    for split in all_split:\n",
    "        exist_flag = 0\n",
    "        for file_postfix in SUPPORT_FILES:\n",
    "            split_path = os.path.join(dataset_path, f\"{split}.{file_postfix}\")\n",
    "            if not os.path.exists(split_path):\n",
    "                continue\n",
    "            else:\n",
    "                exist_flag = 1\n",
    "                break\n",
    "        if exist_flag == 0:\n",
    "            continue\n",
    "        else:\n",
    "            print(f\"Loading {split} dataset from: {split_path}...\")\n",
    "        if split in [\"test\", \"val\", \"dev\"]:\n",
    "            split_dict[split] = Dataset(\n",
    "                config, split_path, sample_num=config[\"test_sample_num\"], random_sample=config[\"random_sample\"]\n",
    "            )\n",
    "        else:\n",
    "            split_dict[split] = Dataset(config, split_path)\n",
    "\n",
    "    return split_dict\n"
   ]
  },
  {
   "cell_type": "code",
   "execution_count": 1,
   "metadata": {},
   "outputs": [
    {
     "name": "stdout",
     "output_type": "stream",
     "text": [
      "dsa {a}\n"
     ]
    }
   ],
   "source": [
    "a = 3\n",
    "m = \"\"\"dsa {a}\"\"\"\n",
    "print(m)"
   ]
  },
  {
   "cell_type": "code",
   "execution_count": 5,
   "metadata": {},
   "outputs": [
    {
     "name": "stdout",
     "output_type": "stream",
     "text": [
      "7405\n",
      "7405\n"
     ]
    }
   ],
   "source": [
    "import json \n",
    "with open(\"/mnt/ceph_rbd/len_rag_local/data/hotpotqa/dev.jsonl\", \"r\") as f:\n",
    "    data = []\n",
    "    for line in f:\n",
    "        data.append(json.loads(line))\n",
    "\n",
    "print(len(data))\n",
    "with open(\"/mnt/ceph_rbd/len_rag_local/data/hotpotqa/dev_100.jsonl\", \"w\") as f:\n",
    "    for item in data[:100]:\n",
    "        f.write(json.dumps(item) + \"\\n\")\n",
    "print(len(data))"
   ]
  }
 ],
 "metadata": {
  "language_info": {
   "name": "python"
  }
 },
 "nbformat": 4,
 "nbformat_minor": 2
}
